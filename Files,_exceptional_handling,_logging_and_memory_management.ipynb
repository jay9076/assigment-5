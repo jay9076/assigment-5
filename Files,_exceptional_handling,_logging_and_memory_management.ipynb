{
  "nbformat": 4,
  "nbformat_minor": 0,
  "metadata": {
    "colab": {
      "private_outputs": true,
      "provenance": []
    },
    "kernelspec": {
      "name": "python3",
      "display_name": "Python 3"
    },
    "language_info": {
      "name": "python"
    }
  },
  "cells": [
    {
      "cell_type": "code",
      "execution_count": null,
      "metadata": {
        "id": "CyvfFBFmLsWk"
      },
      "outputs": [],
      "source": [
        "1. What is the difference between interpreted and compiled languages\n",
        "\n",
        "\n",
        "Compiled languages\n",
        "Process: The source code is translated into machine-readable machine code by a compiler before the program is run.\n",
        "Execution: The resulting machine code is then executed directly by the computer's processor, which is faster.\n",
        "Error detection: Syntax errors are detected during the compilation phase, before the program runs.\n",
        "Examples: C, C++, and C#.\n",
        "\n",
        "Interpreted languages\n",
        "Process: An interpreter reads the source code and executes it line by line at runtime, without a separate compilation step beforehand.\n",
        "Execution: The interpreter translates each line into machine instructions as it's encountered, which can be slower than executing pre-compiled code.\n",
        "Error detection: Errors are found as each line is executed.\n",
        "Portability: The source code can be run on any system that has the corresponding interpreter installed, regardless of the underlying hardware or operating system.\n",
        "Examples: JavaScript, Perl, and Python are often cited as examples, though many modern languages use a hybrid approach."
      ]
    },
    {
      "cell_type": "markdown",
      "source": [
        "2. What is exception handling in Python\n",
        "\n",
        "\n",
        "Exception handling in Python is a mechanism for gracefully managing runtime errors, known as exceptions, that disrupt the normal flow of a program. Instead of crashing, the program can detect these exceptions, respond to them, and potentially continue execution.\n",
        "This is achieved using try, except, else, and finally blocks:\n",
        "try block: Contains code that might raise an exception.\n",
        "except block: Executes if an exception occurs within the corresponding try block. It can be tailored to handle specific exception types.\n",
        "else block (optional): Executes if no exception occurs within the try block.\n",
        "finally block (optional): Always executes, regardless of whether an exception occurred or not. This is useful for cleanup operations like closing files.\n",
        "By using these constructs, Python programs can become more robust and user-friendly, preventing abrupt termination and allowing for controlled error recovery."
      ],
      "metadata": {
        "id": "TpPNPKTIMqNp"
      }
    },
    {
      "cell_type": "markdown",
      "source": [
        "3.What is the purpose of the finally block in exception handling\n",
        "\n",
        "\n",
        "The purpose of a finally block is to execute code that must run, regardless of whether an exception was thrown in the try block. This is typically used for cleanup actions, such as closing files, releasing network connections, or freeing up other resources, to ensure they are always handled properly and prevent leaks.  \n",
        "Always runs: The code inside the finally block will execute whether the try block completes successfully, an exception is caught, or no exception is thrown at all.\n",
        "Cleanup actions: It's the ideal place to put code that cleans up resources that were opened in the try block, like closing a file or a database connection.\n",
        "Guaranteed execution: It guarantees that crucial \"cleanup\" logic is executed, even if the try or catch block has a return, break, or continue statement."
      ],
      "metadata": {
        "id": "Z7sKJ7QVNG_J"
      }
    },
    {
      "cell_type": "markdown",
      "source": [
        "4.What is logging in Python\n",
        "\n",
        "Logging in Python is the process of recording events that occur during a program's execution using the built-in logging module. This module provides a flexible framework for generating and managing log messages, which can be crucial for:\n",
        "Debugging: Identifying and diagnosing issues by capturing detailed information about program flow and variable states.\n",
        "Monitoring: Gaining insights into an application's behavior and performance over time.\n",
        "Auditing: Maintaining a record of important events and actions for security or compliance purposes.\n",
        "Instead of simple print() statements, the logging module allows you to:\n",
        "Assign log levels: Categorize messages by severity (e.g., DEBUG, INFO, WARNING, ERROR, CRITICAL).\n",
        "Configure output destinations: Send logs to files, the console, or other locations.\n",
        "Format log messages: Customize the appearance of logs with timestamps, level names, and other details."
      ],
      "metadata": {
        "id": "EHuvMCQxNVKp"
      }
    },
    {
      "cell_type": "markdown",
      "source": [
        "5.What is the significance of the __del__ method in Python\n",
        "\n",
        "The __del__ method in Python, also known as the destructor, is a special method invoked automatically by the Python interpreter when an object is about to be destroyed. Its primary significance lies in enabling resource cleanup and performing finalization tasks before an object's memory is deallocated.\n",
        "Significance:\n",
        "Resource Management: It allows for the release of external resources held by the object, such as closing open file handles, network connections, or database connections, preventing resource leaks.\n",
        "Cleanup Operations: It provides an opportunity to execute any necessary cleanup code or finalization logic associated with the object's lifecycle.\n",
        "Important Considerations:\n",
        "Not Guaranteed Execution: The timing of __del__ execution is not strictly guaranteed, as it depends on Python's garbage collector. It may not be called immediately when an object is no longer referenced, especially in cases of circular references.\n",
        "Not for Critical Cleanup: Due to the non-deterministic nature of its execution, __del__ is generally not recommended for critical cleanup tasks where immediate and guaranteed resource release is essential. Context managers (with statements) are preferred for such scenarios."
      ],
      "metadata": {
        "id": "8dpeJL26NhFX"
      }
    },
    {
      "cell_type": "markdown",
      "source": [
        "6.What is the difference between import and from ... import in Python\n",
        "\n",
        "The difference between import and from ... import in Python lies in how module contents are accessed and brought into the current namespace:\n",
        "import module_name: This imports the entire module_name and makes its contents accessible through dot notation (e.g., module_name.function(), module_name.variable). The module itself is added to the current namespace.\n",
        "Python\n",
        "\n",
        "    import math\n",
        "    print(math.sqrt(16))\n",
        "from module_name import specific_item: This imports only a specific_item (function, class, variable, etc.) from module_name directly into the current namespace. The specific_item can then be used without needing to reference the module name.\n",
        "Python\n",
        "\n",
        "    from math import sqrt\n",
        "    print(sqrt(16))\n",
        "In essence, import brings in the whole module as an object, while from ... import selectively brings in specific components, potentially simplifying their usage by avoiding the need for module prefixing.\n",
        "\n"
      ],
      "metadata": {
        "id": "FJnZCENxNp-o"
      }
    },
    {
      "cell_type": "markdown",
      "source": [
        "7.How can you handle multiple exceptions in Python\n",
        "\n",
        "In Python, handling multiple exceptions concisely can be done in two primary ways:\n",
        "1. Grouping Exceptions in a Single except Block:\n",
        "This method is suitable when you want to handle several different exception types with the same block of code.\n",
        "Python\n",
        "\n",
        "try:\n",
        "    # Code that might raise exceptions\n",
        "    value = int(\"abc\") # Example: ValueError\n",
        "    result = 10 / 0    # Example: ZeroDivisionError\n",
        "except (ValueError, ZeroDivisionError) as e:\n",
        "    print(f\"An error occurred: {e}\")\n",
        "In this example, if either a ValueError or a ZeroDivisionError occurs within the try block, the same except block will execute, printing the error message.\n",
        "\n",
        "\n",
        "2. Using Multiple except Blocks (for different handling):\n",
        "If you need to handle different exception types with distinct logic, you can use separate except blocks.\n",
        "Python\n",
        "\n",
        "try:\n",
        "    # Code that might raise exceptions\n",
        "    data = {\"a\": 1}\n",
        "    print(data[\"b\"]) # Example: KeyError\n",
        "    text = \"hello\"\n",
        "    number = int(text) # Example: ValueError\n",
        "except KeyError as ke:\n",
        "    print(f\"A KeyError occurred: {ke}. Please check your dictionary keys.\")\n",
        "except ValueError as ve:\n",
        "    print(f\"A ValueError occurred: {ve}. Invalid data type for conversion.\")\n",
        "except Exception as e: # Catch-all for other exceptions\n",
        "    print(f\"An unexpected error occurred: {e}\")\n",
        "This approach allows for more specific error handling based on the exception type. The except Exception as e: acts as a general catch-all for any other unhandled exceptions.\n",
        "Note for Python 3.11+:\n",
        "For handling groups of unrelated exceptions, Python 3.11 introduced ExceptionGroup and the except* clause, offering a more advanced way to manage and propagate multiple concurrent exceptions. However, for most common scenarios, the two methods above are sufficient and more widely applicable."
      ],
      "metadata": {
        "id": "ih3nhzuKN2qK"
      }
    },
    {
      "cell_type": "markdown",
      "source": [
        "8.What is the purpose of the with statement when handling files in Python\n",
        "\n",
        "The with statement in Python, when handling files, ensures that the file is automatically closed after its associated code block is executed, regardless of whether the block completes normally or an exception occurs. This prevents resource leaks and simplifies error handling by eliminating the need for explicit file.close() calls or try-finally blocks for cleanup. It leverages context managers to manage resource acquisition and release safely and efficiently."
      ],
      "metadata": {
        "id": "q_N7j8ETOG1Y"
      }
    },
    {
      "cell_type": "markdown",
      "source": [
        "9.What is the difference between multithreading and multiprocessing\n",
        "\n",
        "Multithreading\n",
        "What it is: A single program is divided into multiple threads, which are the basic units of execution. These threads run concurrently within the same process.\n",
        "Resource sharing: Threads share the same memory space and resources (like code and data) of the parent process, making communication between them more efficient.\n",
        "Benefits: Improved responsiveness, as one thread can handle a user interface while another performs a background task, and better performance on multi-core processors by distributing tasks across cores.\n",
        "Drawbacks: A problem in one thread (like a memory leak) can potentially impact the entire process and all other threads. Synchronization challenges can arise when multiple threads access shared data.\n",
        "\n",
        "\n",
        "\n",
        "The multiprocessing module in Python enables the use of multiple CPU cores or processors to execute tasks concurrently. It achieves this by creating and managing separate processes, each with its own Python interpreter and memory space, effectively bypassing the limitations of Python's Global Interpreter Lock (GIL) for CPU-bound tasks. This allows for true parallel execution, leading to significant performance improvements for computationally intensive operations.\n",
        "Key features include:\n",
        "Process Creation: The Process class allows the creation of new processes to run specific functions.\n",
        "Process Management: Methods like start(), join(), and terminate() control process lifecycle.\n",
        "Inter-Process Communication (IPC): Tools like Queue, Pipe, Lock, and Manager facilitate data sharing and synchronization between processes.\n",
        "Process Pools: The Pool class offers a convenient way to manage a group of worker processes for parallelizing tasks across a collection of inputs.\n",
        "In essence, multiprocessing provides the tools to leverage the full processing power of multi-core machines in Python, especially for tasks that are not limited by I/O operations.\n"
      ],
      "metadata": {
        "id": "uQZb4Q3sOWZ5"
      }
    },
    {
      "cell_type": "markdown",
      "source": [
        "10.What are the advantages of using logging in a program\n",
        "\n",
        "\n",
        "The key advantages of logging in a program include enhanced debugging and error tracing, improved performance monitoring, better security and audit capabilities, and providing insight into user behavior. Logging gives developers a comprehensive, historical record of events in an application, especially valuable in production environments where debuggers are not an option.\n",
        "For debugging and troubleshooting\n",
        "Faster problem localization: Logs act as a detailed trail of clues, capturing the sequence of events and variable values leading up to an error. This allows developers to pinpoint the root cause of a bug more efficiently.\n",
        "Production environment visibility: You cannot connect a debugger to a live production environment. Logs are often the only resource available to diagnose and resolve intermittent or critical failures in the field.\n",
        "Post-mortem analysis: When an application crashes, logs preserve the context, including stack traces and variable states, which a debugger cannot capture after the process has terminated.\n",
        "For monitoring and performance\n",
        "Real-time monitoring and alerting: A log management tool can be configured to monitor logs in real time, alerting operations teams to critical issues and performance bottlenecks as they happen.\n",
        "Performance optimization: By analyzing logs, developers can identify slow API endpoints, long database queries, or resource-intensive operations that are impacting performance and user experience.\n",
        "Behavioral analysis: Logs can track user actions, helping to understand how customers interact with the application and evaluate the success of new features.\n",
        "For maintenance and security\n",
        "Improved maintainability: For complex projects with multiple teams or a changing staff, logs serve as a reliable source of information for understanding application behavior over time.\n",
        "Security auditing: Logs are crucial for security, recording events like login attempts, access changes, and other suspicious activities to help detect and investigate breaches.\n",
        "Regulatory compliance: Many industry regulations require detailed log records for audits, which proves compliance and ensures data integrity."
      ],
      "metadata": {
        "id": "PVjze9-fPJ54"
      }
    },
    {
      "cell_type": "markdown",
      "source": [
        "11. What is memory management in Python\n",
        "\n",
        "\n",
        "In Python, memory management is automatic, meaning you don't have to manually allocate or deallocate memory. The system handles this by using a private heap to store Python objects and a garbage collector to automatically free up memory for objects that are no longer in use. This is done through a system of tracking object references: when an object's reference count drops to zero, it is considered unreachable and its memory is reclaimed.\n",
        "Key aspects of Python memory management\n",
        "Automatic memory management: You don't need to write code to manage memory. Python's memory manager handles memory allocation and deallocation for you.\n",
        "Private heap: Python uses a private heap space to manage memory for all of its objects.\n",
        "Reference counting: This is the primary mechanism Python uses to track how many times an object is being referenced. When this count reaches zero, the object is no longer needed.\n",
        "Garbage collection: When an object's reference count drops to zero, the garbage collector automatically reclaims the memory it was using. It can also handle more complex cases like cyclic references.\n",
        "Memory efficiency: While Python manages memory automatically, understanding memory management principles helps you write more efficient code. This includes choosing appropriate data structures and releasing memory when it's no longer needed, especially when dealing with large datasets.\n",
        "\n"
      ],
      "metadata": {
        "id": "e9YFmP0wPSSY"
      }
    },
    {
      "cell_type": "markdown",
      "source": [
        "12. What are the basic steps involved in exception handling in Python\n",
        "\n",
        "\n",
        "The basic steps involved in exception handling in Python are as follows:\n",
        "try block: Enclose the code that might raise an exception within this block. This is the section where potential errors are anticipated.\n",
        "Python\n",
        "\n",
        "    try:\n",
        "        # Code that might raise an exception\n",
        "        result = 10 / 0\n",
        "except block: Immediately following the try block, this block catches and handles specific exceptions that occur within the try block. You can specify the type of exception to catch, or a general Exception to catch all types.\n",
        "Python\n",
        "\n",
        "    except ZeroDivisionError:\n",
        "        # Code to handle ZeroDivisionError\n",
        "        print(\"Error: Cannot divide by zero!\")\n",
        "else block (optional): This block executes only if no exception occurs within the try block. It's useful for code that should run only when the try block completes successfully.\n",
        "Python\n",
        "\n",
        "    else:\n",
        "        # Code to execute if no exception occurred in the try block\n",
        "        print(\"Division successful!\")\n",
        "finally block (optional): This block always executes, regardless of whether an exception occurred or was handled. It's typically used for cleanup operations, such as closing files or releasing resources.\n",
        "Python\n",
        "\n",
        "    finally:\n",
        "        # Code that always executes\n",
        "        print(\"Execution complete.\")"
      ],
      "metadata": {
        "id": "ZDMpIpQYPu_Y"
      }
    },
    {
      "cell_type": "markdown",
      "source": [
        "13. Why is memory management important in Python\n",
        "\n",
        "\n",
        "Memory management is important in Python for ensuring efficient and stable program execution, even though it's largely automatic. Key reasons include:\n",
        "Preventing Memory Leaks: Unmanaged memory can lead to memory leaks, where unused memory is not released, causing programs to consume increasing amounts of RAM and potentially slow down or crash over time.\n",
        "Optimizing Performance: Efficient memory usage, even with automatic management, contributes to faster processing and reduced resource demands. Understanding how Python handles memory allows for writing more memory-efficient code, especially when dealing with large datasets or performance-critical applications.\n",
        "Resource Management: Python objects, being dynamically typed, require memory allocation at runtime. Effective memory management ensures that the finite memory resources of a system are utilized optimally, allowing for more applications to run concurrently and preventing resource exhaustion.\n",
        "Understanding Underlying Mechanisms: While Python handles memory automatically through reference counting and garbage collection, understanding these mechanisms helps in debugging memory-related issues, optimizing code for specific scenarios, and making informed choices about data structures and algorithms."
      ],
      "metadata": {
        "id": "ooeIbTbrQEUJ"
      }
    },
    {
      "cell_type": "markdown",
      "source": [
        "14. What is the role of try and except in exception handling\n",
        "\n",
        "\n",
        "The try and except blocks are fundamental to exception handling, allowing programs to gracefully manage errors without crashing.\n",
        "try block: This block encloses the code that might potentially raise an exception. The program attempts to execute the statements within this block.\n",
        "except block: If an exception occurs during the execution of the try block, the program's control is immediately transferred to the corresponding except block. This block contains the code responsible for handling the specific type of exception that occurred, preventing the program from terminating abruptly.\n",
        "In essence, try identifies the risky code, and except provides a mechanism to respond to and recover from potential errors, ensuring program stability."
      ],
      "metadata": {
        "id": "tzuVwm55QSIB"
      }
    },
    {
      "cell_type": "markdown",
      "source": [
        "15.  How does Python's garbage collection system work\n",
        "\n",
        "\n",
        "Python's garbage collection system primarily relies on two mechanisms:\n",
        "Reference Counting:\n",
        "Every object in Python maintains a reference count, which tracks the number of references pointing to it.\n",
        "When an object's reference count drops to zero, it means no variables or other objects are referencing it, making it eligible for immediate deallocation. This is the most common and efficient form of garbage collection in Python.\n",
        "Generational Cyclic Garbage Collector:\n",
        "Reference counting alone cannot handle reference cycles, where objects mutually reference each other but are no longer accessible from the main program (e.g., a references b, and b references a, but nothing else references a or b).\n",
        "To address this, Python employs a generational garbage collector that identifies and collects these cycles.\n",
        "Objects are categorized into three \"generations\" (0, 1, 2) based on their age and survival of previous collection cycles. New objects start in generation 0. If an object survives a collection in its current generation, it's promoted to the next older generation.\n",
        "The garbage collector runs periodically, with more frequent collections for younger generations and less frequent, but more comprehensive, collections for older generations. This strategy optimizes performance by focusing on newer, more likely-to-be-short-lived objects."
      ],
      "metadata": {
        "id": "Afkt28dVQh5w"
      }
    },
    {
      "cell_type": "markdown",
      "source": [
        "16. What is the purpose of the else block in exception handling\n",
        "\n",
        "The else block in exception handling, specifically in a try...except...else structure, is executed only if no exceptions are raised within the try block. It provides a dedicated place to put code that should run when the try block successfully completes its execution without encountering any errors. This is useful for separating \"successful execution\" logic from \"error handling\" logic, making the code clearer and preventing the except block from accidentally catching exceptions that occur in the success-path code."
      ],
      "metadata": {
        "id": "2cW3jNaQQr1Z"
      }
    },
    {
      "cell_type": "markdown",
      "source": [
        "17. What are the common logging levels in Python\n",
        "\n",
        "Python's logging module utilizes several standard logging levels to categorize the severity of messages. These levels, in increasing order of severity, are:\n",
        "DEBUG (10): Detailed information, typically of interest only when diagnosing problems.\n",
        "INFO (20): Confirmation that things are working as expected.\n",
        "WARNING (30): An indication that something unexpected happened, or indicative of some problem in the near future (e.g., 'disk space low'). The software is still working as expected.\n",
        "ERROR (40): Due to a more serious problem, the software has not been able to perform some function.\n",
        "CRITICAL (50): A serious error, indicating that the program itself may be unable to continue running.\n",
        "Each level has an associated numeric value, which determines the order of severity. When configuring a logger, you can set a threshold level, and only messages with a severity equal to or higher than that threshold will be processed."
      ],
      "metadata": {
        "id": "S35MOKSuQ14B"
      }
    },
    {
      "cell_type": "markdown",
      "source": [
        "18. What is the difference between os.fork() and multiprocessing in Python\n",
        "\n",
        "The core difference between os.fork() and Python's multiprocessing module lies in their level of abstraction and cross-platform compatibility.\n",
        "os.fork(): This is a low-level, POSIX-specific system call that directly creates a new process (child) as a copy of the current process (parent). It's available only on Unix-like systems and offers fine-grained control but requires manual handling of inter-process communication (IPC) and potential issues with shared resources.\n",
        "multiprocessing module: This is a higher-level, cross-platform module in Python that provides an API similar to threading for creating and managing processes. It abstracts away the complexities of os.fork() (or simulates it on platforms like Windows) and offers built-in tools for IPC (e.g., Queue, Pipe, Manager) and resource management, making it generally easier and safer to use for parallel processing."
      ],
      "metadata": {
        "id": "nIOcCqlERB4g"
      }
    },
    {
      "cell_type": "markdown",
      "source": [
        "19. What is the importance of closing a file in Python\n",
        "\n",
        "Closing a file in Python is crucial for several reasons:\n",
        "Data Integrity: It ensures all buffered data is written (\"flushed\") to the file on disk, preventing data loss in case of program crashes or unexpected termination.\n",
        "Resource Management: It releases system resources (like file handles and memory) associated with the open file, preventing resource leaks and potential \"too many open files\" errors, especially in long-running applications or those handling many files.\n",
        "File Access: It unlocks the file, allowing other programs or processes to access and modify it without encountering \"file in use\" errors.\n",
        "Good Practice: Explicitly closing files is a fundamental aspect of robust programming, promoting clean code and preventing unpredictable behavior.\n",
        "While Python's garbage collector eventually closes files, relying on it is not recommended as the timing is not guaranteed, and it does not address the immediate concerns of data integrity and resource management. The with statement is the preferred method for file handling as it automatically ensures files are closed, even if errors occur.\n"
      ],
      "metadata": {
        "id": "2jJa5C6ERLrQ"
      }
    },
    {
      "cell_type": "markdown",
      "source": [
        "20. What is the difference between file.read() and file.readline() in Python\n",
        "\n",
        "In Python, file.read() and file.readline() are both used to read data from a file, but they differ in the amount of data they retrieve:\n",
        "file.read(): This method reads the entire content of the file and returns it as a single string. Optionally, it can take an integer argument n to read only the next n characters (or bytes in binary mode) from the current file position.\n",
        "Python\n",
        "\n",
        "    with open(\"example.txt\", \"r\") as file:\n",
        "        content = file.read()  # Reads the entire file\n",
        "        # or\n",
        "        # partial_content = file.read(10) # Reads the next 10 characters\n",
        "file.readline(): This method reads a single line from the file, including the newline character (\\n) at the end, and returns it as a string. It reads from the current file position until it encounters a newline character or the end of the file.\n",
        "Python\n",
        "\n",
        "    with open(\"example.txt\", \"r\") as file:\n",
        "        line1 = file.readline() # Reads the first line\n",
        "        line2 = file.readline() # Reads the second line\n",
        "In summary: read() retrieves a specified number of characters or the entire file, while readline() retrieves a single line at a time."
      ],
      "metadata": {
        "id": "pB0Ng6yXRVJQ"
      }
    },
    {
      "cell_type": "markdown",
      "source": [
        "21. What is the logging module in Python used for\n",
        "\n",
        "The Python logging module provides a flexible and powerful framework for recording events that occur during program execution. It allows developers to:\n",
        "Track program flow and state: Log messages can provide insights into what parts of the code are being executed and the values of variables at different points.\n",
        "Debug issues: By recording errors, warnings, and other relevant information, developers can more easily identify and resolve problems in their applications.\n",
        "Monitor application health: Logs can be used to track performance metrics, identify potential bottlenecks, and detect unusual activity.\n",
        "Categorize messages by severity: It supports different logging levels (DEBUG, INFO, WARNING, ERROR, CRITICAL) to distinguish the importance of messages.\n",
        "Direct logs to various destinations: Logs can be output to the console, files, network sockets, or other custom handlers.\n",
        "Customize log output: It allows for formatting log messages with timestamps, log levels, and other contextual information.\n",
        "In essence, the logging module offers a structured and robust alternative to simple print() statements for managing and analyzing application events."
      ],
      "metadata": {
        "id": "CoHGN6kYReth"
      }
    },
    {
      "cell_type": "markdown",
      "source": [
        "22. What is the os module in Python used for in file handling\n",
        "\n",
        "The os module in Python provides a way to interact with the operating system, offering a range of functions for file and directory management.\n",
        "In short, it allows you to:\n",
        "Manipulate directories: Create (os.mkdir()), delete (os.rmdir()), change the current working directory (os.chdir()), and get the current working directory (os.getcwd()).\n",
        "Manage files: Rename (os.rename()), delete (os.remove()), and get information about files (e.g., file size, modification time).\n",
        "Handle paths: Join path components (os.path.join()), split paths (os.path.split()), and check for existence of files or directories (os.path.exists()).\n",
        "Interact with the file system: Get file permissions (os.chmod()) and check access rights (os.access()).\n",
        "Essentially, the os module provides a platform-independent interface to perform common operating system-level file handling operations directly from your Python code."
      ],
      "metadata": {
        "id": "B6wRuS32RqQp"
      }
    },
    {
      "cell_type": "markdown",
      "source": [
        "23. What are the challenges associated with memory management in Python\n",
        "\n",
        "Challenges in Python memory management, despite its automatic nature, include:\n",
        "Circular References and Memory Leaks: While Python's garbage collector handles most memory deallocation, circular references (where objects directly or indirectly reference each other in a loop) can prevent objects from being garbage-collected, leading to memory leaks over time, especially in long-running applications.\n",
        "Performance Overhead of Garbage Collection: The automatic garbage collection process, particularly the tracing garbage collector for circular references, introduces some performance overhead as it periodically scans for and reclaims unused memory. This can lead to latency spikes in performance-critical applications.\n",
        "Less Control for Fine-Grained Optimization: Compared to languages like C or C++, Python offers less direct control over memory allocation and deallocation. This can be a challenge for developers needing to implement highly optimized memory strategies for specific performance requirements.\n",
        "Understanding Memory Usage: Python's memory management, including the use of arenas and object-specific allocators, can make it challenging to accurately profile and understand memory usage patterns, especially when trying to identify and debug memory-related issues.\n",
        "Global Interpreter Lock (GIL) and Multithreading: The GIL, while not directly a memory management component, can indirectly impact memory usage and performance in multithreaded applications by limiting true parallelism and potentially leading to less efficient memory access patterns.\n",
        "Arena Retention in Long-Running Processes: Python applications that process bursts of data may appear to \"leak\" memory as they retain allocated memory arenas for potential future use, even if the immediate need has passed. This is not a true leak but can lead to increased memory footprint in long-running processes.\n"
      ],
      "metadata": {
        "id": "yXRf82ffRwsB"
      }
    },
    {
      "cell_type": "markdown",
      "source": [
        "24.  How do you raise an exception manually in Python\n",
        "\n",
        "To raise an exception manually in Python, use the raise keyword followed by an instance of the exception class you want to trigger.\n",
        "Syntax:\n",
        "Python\n",
        "\n",
        "raise ExceptionType(\"Error message\")\n",
        "Example:\n",
        "Python\n",
        "\n",
        "age = -5\n",
        "if age < 0:\n",
        "    raise ValueError(\"Age cannot be a negative number.\")"
      ],
      "metadata": {
        "id": "EcHO75OrR9G4"
      }
    },
    {
      "cell_type": "markdown",
      "source": [
        "25. Why is it important to use multithreading in certain applications\n",
        "\n",
        "Multithreading is important because it allows applications to improve performance and responsiveness by running multiple tasks at the same time. It is particularly valuable for:\n",
        "Preventing the program from freezing: By running a long-running task, such as fetching data from a network or disk, on a separate thread, the main thread can remain free to handle user interactions and keep the interface responsive.\n",
        "Utilizing multiple processors or cores: Multithreading takes full advantage of modern hardware by distributing tasks across multiple CPU cores, which allows for true parallel execution and speeds up computationally intensive operations.\n",
        "Handling multiple clients: Web servers and other network applications use multithreading to manage simultaneous requests from different clients, ensuring that each user is served promptly.\n",
        "Conserving resources: Threads are more \"lightweight\" than processes, meaning they share memory and other resources from the same parent process. This makes them more efficient and economical to create and manage than separate processes."
      ],
      "metadata": {
        "id": "TsNEhueMSB8P"
      }
    },
    {
      "cell_type": "markdown",
      "source": [
        "# ***Practical Questions***"
      ],
      "metadata": {
        "id": "tEduqY3LY0nv"
      }
    },
    {
      "cell_type": "markdown",
      "source": [
        "1.How can you open a file for writing in Python and write a string to it"
      ],
      "metadata": {
        "id": "sotzHPZ4Y8nI"
      }
    },
    {
      "cell_type": "code",
      "source": [
        "# The with statement ensures the file is properly closed\n",
        "with open(\"my_file.txt\", \"w\") as file:\n",
        "    file.write(\"Hello, World!\")\n",
        "\n",
        "# After this code runs, \"my_file.txt\" will contain only \"Hello, World!\"\n"
      ],
      "metadata": {
        "id": "l7eIJ4idZDpH"
      },
      "execution_count": null,
      "outputs": []
    },
    {
      "cell_type": "markdown",
      "source": [
        "2.Write a Python program to read the contents of a file and print each line"
      ],
      "metadata": {
        "id": "jtggfo_TZPrJ"
      }
    },
    {
      "cell_type": "code",
      "source": [
        "# Replace 'your_file.txt' with the name of your file\n",
        "try:\n",
        "    with open('your_file.txt', 'r') as file:\n",
        "        for line in file:\n",
        "            print(line.strip())\n",
        "except FileNotFoundError:\n",
        "    print(\"The file was not found.\")\n",
        "except Exception as e:\n",
        "    print(f\"An error occurred: {e}\")\n"
      ],
      "metadata": {
        "id": "6ndxGQKbZf1I"
      },
      "execution_count": null,
      "outputs": []
    },
    {
      "cell_type": "markdown",
      "source": [
        "3.How would you handle a case where the file doesn't exist while trying to open it for reading"
      ],
      "metadata": {
        "id": "LgbHQEDAZh1g"
      }
    },
    {
      "cell_type": "code",
      "source": [
        "import os\n",
        "\n",
        "file_name = 'data.txt'\n",
        "\n",
        "if os.path.exists(file_name):\n",
        "    with open(file_name, 'r') as file:\n",
        "        content = file.read()\n",
        "        print(\"File content:\")\n",
        "        print(content)\n",
        "else:\n",
        "    print(f\"Error: The file '{file_name}' does not exist.\")\n"
      ],
      "metadata": {
        "id": "TKf5NAaOZniI"
      },
      "execution_count": null,
      "outputs": []
    },
    {
      "cell_type": "markdown",
      "source": [
        "4.Write a Python script that reads from one file and writes its content to another file"
      ],
      "metadata": {
        "id": "hXvnHqBqaD5P"
      }
    },
    {
      "cell_type": "code",
      "source": [
        "import shutil\n",
        "import os\n",
        "\n",
        "source_file_path = 'source.txt'\n",
        "destination_file_path = 'destination.txt'\n",
        "\n",
        "try:\n",
        "    # `shutil.copyfile()` is a quick, high-level way to copy a file\n",
        "    shutil.copyfile(source_file_path, destination_file_path)\n",
        "    print(f\"Successfully copied the contents of '{source_file_path}' to '{destination_file_path}'.\")\n",
        "\n",
        "except FileNotFoundError:\n",
        "    print(f\"Error: The source file '{source_file_path}' was not found.\")\n",
        "except Exception as e:\n",
        "    print(f\"An error occurred: {e}\")\n",
        "\n"
      ],
      "metadata": {
        "id": "rBMhCuWraL7q"
      },
      "execution_count": null,
      "outputs": []
    },
    {
      "cell_type": "markdown",
      "source": [
        "5.How would you catch and handle division by zero error in Python"
      ],
      "metadata": {
        "id": "STwwn68oabM3"
      }
    },
    {
      "cell_type": "code",
      "source": [
        "numerator = 10\n",
        "denominator = 0\n",
        "\n",
        "if denominator != 0:\n",
        "    result = numerator / denominator\n",
        "    print(f\"The result is: {result}\")\n",
        "else:\n",
        "    print(\"Error: Cannot divide by zero.\")\n",
        "    result = None\n",
        "\n",
        "print(f\"Program continues. Result is: {result}\")\n"
      ],
      "metadata": {
        "id": "UQUkEdSvaaHp"
      },
      "execution_count": null,
      "outputs": []
    },
    {
      "cell_type": "markdown",
      "source": [
        "6.Write a Python program that logs an error message to a log file when a division by zero exception occurs"
      ],
      "metadata": {
        "id": "KJh_2-mzaha3"
      }
    },
    {
      "cell_type": "code",
      "source": [
        "import logging\n",
        "import os\n",
        "\n",
        "# Define the name of the log file\n",
        "log_file = 'app_errors.log'\n",
        "\n",
        "# Configure the logging module\n",
        "# Set level=logging.ERROR to log only error messages and above.\n",
        "# Set filename to send log messages to a file.\n",
        "# filemode='a' will append new log entries instead of overwriting the file.\n",
        "logging.basicConfig(\n",
        "    level=logging.ERROR,\n",
        "    filename=log_file,\n",
        "    filemode='a',\n",
        "    format='%(asctime)s - %(levelname)s - %(message)s'\n",
        ")\n",
        "\n",
        "def divide_numbers(numerator, denominator):\n",
        "    \"\"\"\n",
        "    Divides two numbers and logs an error if a division by zero occurs.\n",
        "    \"\"\"\n",
        "    try:\n",
        "        result = numerator / denominator\n",
        "        logging.info(f\"The result of {numerator}/{denominator} is {result}\")\n",
        "        print(f\"Result: {result}\")\n",
        "    except ZeroDivisionError:\n",
        "        # logging.exception() logs the error message with the full traceback\n",
        "        logging.exception(\"An attempt was made to divide by zero.\")\n",
        "        print(\"An error occurred. Check the log file for details.\")\n",
        "\n",
        "if __name__ == \"__main__\":\n",
        "    print(f\"Logging output to {os.path.abspath(log_file)}\\n\")\n",
        "\n",
        "    # This will succeed and not log an error\n",
        "    divide_numbers(10, 2)\n",
        "\n",
        "    # This will fail and write an exception message to the log file\n",
        "    divide_numbers(10, 0)\n",
        "\n",
        "    print(\"\\nProgram finished.\")\n",
        "\n"
      ],
      "metadata": {
        "id": "yfXRSkbrfrIO"
      },
      "execution_count": null,
      "outputs": []
    },
    {
      "cell_type": "markdown",
      "source": [
        "7.How do you log information at different levels (INFO, ERROR, WARNING) in Python using the logging module"
      ],
      "metadata": {
        "id": "xqkxBmynf3PH"
      }
    },
    {
      "cell_type": "code",
      "source": [
        "import logging\n",
        "\n",
        "# Configure the basic settings for logging\n",
        "# `level` sets the minimum severity level to be handled.\n",
        "# Here, we set it to DEBUG, so all levels (DEBUG, INFO, WARNING, ERROR, CRITICAL) are processed.\n",
        "logging.basicConfig(level=logging.DEBUG, format='%(asctime)s - %(levelname)s - %(message)s')\n",
        "\n",
        "# Log messages at different severity levels\n",
        "logging.info('This is an informational message.')\n",
        "logging.warning('This is a warning message.')\n",
        "logging.error('This is an error message.')\n",
        "```\n"
      ],
      "metadata": {
        "id": "wJwU3cwHgAf_"
      },
      "execution_count": null,
      "outputs": []
    },
    {
      "cell_type": "markdown",
      "source": [
        "8.Write a program to handle a file opening error using exception handling"
      ],
      "metadata": {
        "id": "17V-_wxpgBLO"
      }
    },
    {
      "cell_type": "code",
      "source": [
        "# Define the name of the file you want to open.\n",
        "filename = 'my_important_data.txt'\n",
        "\n",
        "try:\n",
        "    # Use a 'with' statement for safe and automatic resource management.\n",
        "    # The 'r' mode means we are attempting to read the file.\n",
        "    with open(filename, 'r') as file:\n",
        "        content = file.read()\n",
        "        print(f\"File content:\\n{content}\")\n",
        "\n",
        "except FileNotFoundError:\n",
        "    # This block executes only if the FileNotFoundError occurs.\n",
        "    print(f\"Error: The file '{filename}' was not found.\")\n",
        "    print(\"Please make sure the file exists in the correct directory.\")\n",
        "\n",
        "except Exception as e:\n",
        "    # This is a general fallback for any other unexpected errors.\n",
        "    print(f\"An unexpected error occurred: {e}\")\n",
        "\n",
        "finally:\n",
        "    # The 'finally' block is optional but useful for cleanup code.\n",
        "    # It executes regardless of whether an exception occurred.\n",
        "    print(\"\\nFile operation attempt finished.\")\n"
      ],
      "metadata": {
        "id": "IwpwI_PCgI7m"
      },
      "execution_count": null,
      "outputs": []
    },
    {
      "cell_type": "markdown",
      "source": [
        "9.How can you read a file line by line and store its content in a list in Python"
      ],
      "metadata": {
        "id": "1DVIzjTrgOVG"
      }
    },
    {
      "cell_type": "code",
      "source": [
        "file_path = 'my_file.txt'\n",
        "lines_list = []\n",
        "\n",
        "try:\n",
        "    with open(file_path, 'r') as file:\n",
        "        for line in file:\n",
        "            # The .strip() method removes leading/trailing whitespace,\n",
        "            # including the newline character '\\n'.\n",
        "            lines_list.append(line.strip())\n",
        "\n",
        "    print(lines_list)\n",
        "except FileNotFoundError:\n",
        "    print(f\"Error: The file '{file_path}' was not found.\")\n"
      ],
      "metadata": {
        "id": "_yMLwLw8gU4O"
      },
      "execution_count": null,
      "outputs": []
    },
    {
      "cell_type": "markdown",
      "source": [
        "10.How can you append data to an existing file in Python"
      ],
      "metadata": {
        "id": "iIsDIjjNgbNW"
      }
    },
    {
      "cell_type": "code",
      "source": [
        "# Create a file for the first time with some initial content\n",
        "with open(\"my_log.txt\", \"w\") as file:\n",
        "    file.write(\"Initial log entry.\\n\")\n",
        "\n",
        "# Open the file again in append mode ('a')\n",
        "with open(\"my_log.txt\", \"a\") as file:\n",
        "    # Use '\\n' to add the new content on a new line\n",
        "    file.write(\"A new log entry has been added.\\n\")\n",
        "\n",
        "# Read the file to see the appended content\n",
        "with open(\"my_log.txt\", \"r\") as file:\n",
        "    print(file.read())\n"
      ],
      "metadata": {
        "id": "_0is9Y3Zgj4V"
      },
      "execution_count": null,
      "outputs": []
    },
    {
      "cell_type": "markdown",
      "source": [
        "11.Write a Python program that uses a try-except block to handle an error when attempting to access a\n",
        "dictionary key that doesn't exist"
      ],
      "metadata": {
        "id": "edpz0R6Egkke"
      }
    },
    {
      "cell_type": "code",
      "source": [
        "# Create a dictionary with some data\n",
        "person_data = {\n",
        "    'name': 'Alice',\n",
        "    'age': 30,\n",
        "    'city': 'New York'\n",
        "}\n",
        "\n",
        "# Key that exists in the dictionary\n",
        "key_to_find = 'name'\n",
        "print(f\"Attempting to access key: '{key_to_find}'\")\n",
        "try:\n",
        "    value = person_data[key_to_find]\n",
        "    print(f\"Value found: {value}\\n\")\n",
        "except KeyError:\n",
        "    print(f\"Error: The key '{key_to_find}' does not exist in the dictionary.\\n\")\n",
        "\n",
        "# Key that does not exist in the dictionary\n",
        "key_to_find = 'email'\n",
        "print(f\"Attempting to access key: '{key_to_find}'\")\n",
        "try:\n",
        "    value = person_data[key_to_find]\n",
        "    print(f\"Value found: {value}\")\n",
        "except KeyError:\n",
        "    print(f\"Error: The key '{key_to_find}' does not exist in the dictionary.\")\n",
        "\n"
      ],
      "metadata": {
        "id": "HxRu5-_Cgolm"
      },
      "execution_count": null,
      "outputs": []
    },
    {
      "cell_type": "markdown",
      "source": [
        "12.Write a program that demonstrates using multiple except blocks to handle different types of exceptions"
      ],
      "metadata": {
        "id": "kH1uIvgEgs5G"
      }
    },
    {
      "cell_type": "code",
      "source": [
        "def safe_division():\n",
        "    \"\"\"\n",
        "    Prompts for two numbers and handles different types of input errors.\n",
        "    \"\"\"\n",
        "    try:\n",
        "        # Get input from the user. This might raise a ValueError.\n",
        "        numerator = float(input(\"Enter the numerator: \"))\n",
        "        denominator = float(input(\"Enter the denominator: \"))\n",
        "\n",
        "        # Perform the division. This might raise a ZeroDivisionError.\n",
        "        result = numerator / denominator\n",
        "        print(f\"The result is: {result}\")\n",
        "\n",
        "    except ValueError:\n",
        "        # This block catches non-numeric input\n",
        "        print(\"Error: Invalid input. Please enter a valid number.\")\n",
        "\n",
        "    except ZeroDivisionError:\n",
        "        # This block catches division by zero\n",
        "        print(\"Error: Cannot divide by zero.\")\n",
        "\n",
        "    except Exception as e:\n",
        "        # This is a general handler for any other unexpected error\n",
        "        print(f\"An unexpected error occurred: {e}\")\n",
        "\n",
        "    finally:\n",
        "        # The finally block always executes, regardless of errors\n",
        "        print(\"Execution of the safe_division function has completed.\")\n",
        "\n",
        "# Run the function\n",
        "safe_division()\n"
      ],
      "metadata": {
        "id": "01NvpwIKg1BG"
      },
      "execution_count": null,
      "outputs": []
    },
    {
      "cell_type": "markdown",
      "source": [
        "13.How would you check if a file exists before attempting to read it in Python"
      ],
      "metadata": {
        "id": "MdBGS-0Jg1rv"
      }
    },
    {
      "cell_type": "code",
      "source": [
        "file_name = 'data.txt'\n",
        "\n",
        "try:\n",
        "    # Attempt to open and read the file\n",
        "    with open(file_name, 'r') as file:\n",
        "        content = file.read()\n",
        "        print(content)\n",
        "except FileNotFoundError:\n",
        "    # Handle the specific case where the file doesn't exist\n",
        "    print(f\"Error: The file '{file_name}' was not found.\")\n"
      ],
      "metadata": {
        "id": "NOsxaH_whBbO"
      },
      "execution_count": null,
      "outputs": []
    },
    {
      "cell_type": "markdown",
      "source": [
        "14.Write a program that uses the logging module to log both informational and error messages"
      ],
      "metadata": {
        "id": "5sroLGMnhL8F"
      }
    },
    {
      "cell_type": "code",
      "source": [
        "import logging\n",
        "import sys\n",
        "\n",
        "# Create a custom logger named after the module\n",
        "logger = logging.getLogger(__name__)\n",
        "\n",
        "# Set the logger's minimum severity level to DEBUG\n",
        "# This ensures that messages of all levels (DEBUG and higher) are processed\n",
        "logger.setLevel(logging.DEBUG)\n",
        "\n",
        "# Create a formatter to define the log message format\n",
        "# The format includes timestamp, severity level, logger name, and message\n",
        "formatter = logging.Formatter('%(asctime)s - %(levelname)s - %(name)s - %(message)s')\n",
        "\n",
        "# --- Handler for informational messages (and higher) to be printed to the console ---\n",
        "# Creates a handler that outputs to the standard output stream (console)\n",
        "console_handler = logging.StreamHandler(sys.stdout)\n",
        "# Set the handler's minimum level to INFO\n",
        "console_handler.setLevel(logging.INFO)\n",
        "# Apply the formatter to the console handler\n",
        "console_handler.setFormatter(formatter)\n",
        "\n",
        "# --- Handler for error messages (and higher) to be written to a file ---\n",
        "# Creates a handler that writes log messages to a file\n",
        "file_handler = logging.FileHandler('app_errors.log')\n",
        "# Set the handler's minimum level to ERROR\n",
        "file_handler.setLevel(logging.ERROR)\n",
        "# Apply the formatter to the file handler\n",
        "file_handler.setFormatter(formatter)\n",
        "\n",
        "# Add the handlers to the logger\n",
        "logger.addHandler(console_handler)\n",
        "logger.addHandler(file_handler)\n",
        "\n",
        "def main():\n",
        "    \"\"\"\n",
        "    Main function to demonstrate different log messages.\n",
        "    \"\"\"\n",
        "    logger.info(\"Application has started.\")\n",
        "    logger.warning(\"This is a warning message. Proceed with caution.\")\n",
        "\n",
        "    try:\n",
        "        result = 10 / 0\n",
        "        logger.info(f\"Result is: {result}\")\n",
        "    except ZeroDivisionError:\n",
        "        # Use logger.exception() to log the error with its full traceback\n",
        "        logger.exception(\"An attempt was made to divide by zero.\")\n",
        "\n",
        "    logger.info(\"Application is shutting down.\")\n",
        "\n",
        "if __name__ == \"__main__\":\n",
        "    main()\n"
      ],
      "metadata": {
        "id": "mPZtnhiXhUPN"
      },
      "execution_count": null,
      "outputs": []
    },
    {
      "cell_type": "markdown",
      "source": [
        "15.Write a Python program that prints the content of a file and handles the case when the file is empty"
      ],
      "metadata": {
        "id": "Ueou6gvkhU-m"
      }
    },
    {
      "cell_type": "code",
      "source": [
        "def print_file_content(filepath):\n",
        "    \"\"\"\n",
        "    Reads a file and prints its content, handling cases where the file\n",
        "    is empty or not found.\n",
        "    \"\"\"\n",
        "    try:\n",
        "        with open(filepath, 'r') as file:\n",
        "            content = file.read()\n",
        "            if not content:\n",
        "                print(f\"The file '{filepath}' is empty.\")\n",
        "            else:\n",
        "                print(f\"--- Content of '{filepath}' ---\")\n",
        "                print(content)\n",
        "    except FileNotFoundError:\n",
        "        print(f\"Error: The file '{filepath}' was not found.\")\n",
        "    except Exception as e:\n",
        "        print(f\"An unexpected error occurred: {e}\")\n",
        "\n",
        "# --- Demonstration ---\n",
        "# 1. Test with a file that has content\n",
        "with open(\"non_empty.txt\", \"w\") as f:\n",
        "    f.write(\"Hello, this is a test file.\\n\")\n",
        "    f.write(\"It has some content.\")\n",
        "print_file_content(\"non_empty.txt\")\n",
        "print(\"\\n\" + \"=\"*30 + \"\\n\")\n",
        "\n",
        "# 2. Test with an empty file\n",
        "with open(\"empty.txt\", \"w\") as f:\n",
        "    pass # Creates an empty file\n",
        "print_file_content(\"empty.txt\")\n",
        "print(\"\\n\" + \"=\"*30 + \"\\n\")\n",
        "\n",
        "# 3. Test with a file that does not exist\n",
        "print_file_content(\"non_existent.txt\")\n",
        "\n"
      ],
      "metadata": {
        "id": "ES-he9vghYhW"
      },
      "execution_count": null,
      "outputs": []
    },
    {
      "cell_type": "markdown",
      "source": [
        "16.Demonstrate how to use memory profiling to check the memory usage of a small program"
      ],
      "metadata": {
        "id": "89CBtBIThcJB"
      }
    },
    {
      "cell_type": "code",
      "source": [
        "\n",
        "from memory_profiler import profile\n",
        "\n",
        "# Apply the decorator to the function you want to profile\n",
        "@profile\n",
        "def create_large_list():\n",
        "    \"\"\"\n",
        "    Creates a large list to consume memory, then deletes it.\n",
        "    \"\"\"\n",
        "    a = [1] * (10**6)\n",
        "    b = [2] * (2 * 10**7)\n",
        "    del b\n",
        "    return a\n",
        "\n",
        "if __name__ == \"__main__\":\n",
        "    my_list = create_large_list()\n",
        "    print(\"Function complete.\")\n",
        "\n"
      ],
      "metadata": {
        "id": "L3mO10dJhkn3"
      },
      "execution_count": null,
      "outputs": []
    },
    {
      "cell_type": "markdown",
      "source": [
        "17.Write a Python program to create and write a list of numbers to a file, one number per line"
      ],
      "metadata": {
        "id": "VBoHq0RMhnkn"
      }
    },
    {
      "cell_type": "code",
      "source": [
        "numbers = [10, 20, 30, 40, 50]\n",
        "file_path = 'numbers.txt'\n",
        "\n",
        "with open(file_path, 'w') as file:\n",
        "    for number in numbers:\n",
        "        file.write(str(number) + '\\n')\n",
        "\n",
        "print(f\"Successfully wrote the list of numbers to '{file_path}'.\")\n",
        "\n",
        "# Optional: Verify the file content\n",
        "with open(file_path, 'r') as file:\n",
        "    print(\"\\n--- File Content ---\")\n",
        "    print(file.read())\n"
      ],
      "metadata": {
        "id": "m_jwPTRghupB"
      },
      "execution_count": null,
      "outputs": []
    },
    {
      "cell_type": "markdown",
      "source": [
        "18.How would you implement a basic logging setup that logs to a file with rotation after 1MB"
      ],
      "metadata": {
        "id": "lQ1yjFoAhvke"
      }
    },
    {
      "cell_type": "code",
      "source": [
        "import logging\n",
        "from logging.handlers import RotatingFileHandler\n",
        "import os\n",
        "\n",
        "# --- Configuration ---\n",
        "LOG_FILE = 'app.log'\n",
        "MAX_BYTES = 1024 * 1024  # 1 MB\n",
        "BACKUP_COUNT = 5  # Keep up to 5 rotated log files\n",
        "\n",
        "# --- Set up the logger ---\n",
        "# Create a logger instance\n",
        "logger = logging.getLogger(__name__)\n",
        "logger.setLevel(logging.INFO)  # Set the minimum log level for the logger\n",
        "\n",
        "# --- Set up the handler for file rotation ---\n",
        "# Create a RotatingFileHandler\n",
        "# If the file exists, it will append to it.\n",
        "file_handler = RotatingFileHandler(\n",
        "    LOG_FILE,\n",
        "    maxBytes=MAX_BYTES,\n",
        "    backupCount=BACKUP_COUNT\n",
        ")\n",
        "file_handler.setLevel(logging.INFO)  # Set the minimum log level for the handler\n",
        "\n",
        "# --- Set up the formatter ---\n",
        "# Define the log message format\n",
        "formatter = logging.Formatter('%(asctime)s - %(levelname)s - %(message)s')\n",
        "file_handler.setFormatter(formatter)\n",
        "\n",
        "# Add the handler to the logger\n",
        "logger.addHandler(file_handler)\n",
        "\n",
        "\n",
        "# --- Demonstration ---\n",
        "def demonstrate_logging():\n",
        "    \"\"\"Generates log messages to show file rotation.\"\"\"\n",
        "    print(f\"Logging to {os.path.abspath(LOG_FILE)}\")\n",
        "    print(f\"File will rotate after {MAX_BYTES} bytes.\")\n",
        "\n",
        "    # Write logs until the file size limit is exceeded\n",
        "    for i in range(1000):\n",
        "        # The 'extra' dictionary can be used to add custom information to logs\n",
        "        logger.info(f\"Log message number {i + 1}\")\n",
        "        # To make a log message larger for demonstration purposes:\n",
        "        # logger.info(f\"Log message number {i + 1}: \" + \"A\" * 1000)\n",
        "\n",
        "if __name__ == \"__main__\":\n",
        "    demonstrate_logging()\n",
        "    print(\"Log generation finished. Check your file directory for app.log and its rotated versions.\")\n"
      ],
      "metadata": {
        "id": "edjIujgAh9e9"
      },
      "execution_count": null,
      "outputs": []
    },
    {
      "cell_type": "markdown",
      "source": [
        "19.Write a program that handles both IndexError and KeyError using a try-except block"
      ],
      "metadata": {
        "id": "w6o4CG0mh-1-"
      }
    },
    {
      "cell_type": "code",
      "source": [
        "def handle_errors():\n",
        "    \"\"\"\n",
        "    Demonstrates handling both IndexError and KeyError within a single try-except block.\n",
        "    \"\"\"\n",
        "    my_list = [10, 20, 30]\n",
        "    my_dict = {'apple': 1, 'banana': 2}\n",
        "\n",
        "    print(\"--- Test 1: Accessing a non-existent list index ---\")\n",
        "    try:\n",
        "        # This will raise an IndexError\n",
        "        print(my_list[5])\n",
        "    except IndexError:\n",
        "        print(\"Caught an IndexError: List index is out of range.\")\n",
        "    except KeyError:\n",
        "        # This will not be triggered\n",
        "        print(\"Caught a KeyError: Key does not exist.\")\n",
        "\n",
        "    print(\"\\n--- Test 2: Accessing a non-existent dictionary key ---\")\n",
        "    try:\n",
        "        # This will raise a KeyError\n",
        "        print(my_dict['orange'])\n",
        "    except IndexError:\n",
        "        # This will not be triggered\n",
        "        print(\"Caught an IndexError: List index is out of range.\")\n",
        "    except KeyError:\n",
        "        print(\"Caught a KeyError: Dictionary key does not exist.\")\n",
        "\n",
        "    print(\"\\n--- Test 3: Handling both exceptions in a single try block ---\")\n",
        "    try:\n",
        "        print(\"Attempting to access my_list[5]...\")\n",
        "        print(my_list[5])  # This will raise IndexError\n",
        "        print(\"Attempting to access my_dict['orange']...\")\n",
        "        print(my_dict['orange'])\n",
        "    except IndexError:\n",
        "        print(\"Caught an IndexError: List index is out of range.\")\n",
        "    except KeyError:\n",
        "        print(\"Caught a KeyError: Dictionary key does not exist.\")\n",
        "    except Exception as e:\n",
        "        print(f\"Caught a general exception: {e}\")\n",
        "\n",
        "if __name__ == \"__main__\":\n",
        "    handle_errors()\n",
        "\n"
      ],
      "metadata": {
        "id": "iExoGmBBiKku"
      },
      "execution_count": null,
      "outputs": []
    },
    {
      "cell_type": "markdown",
      "source": [
        "20.How would you open a file and read its contents using a context manager in Python"
      ],
      "metadata": {
        "id": "ntE1IfGIiLQG"
      }
    },
    {
      "cell_type": "code",
      "source": [
        "file_name = 'sample.txt'\n",
        "\n",
        "try:\n",
        "    # 'with' automatically handles opening and closing the file\n",
        "    with open(file_name, 'r') as file:\n",
        "        content = file.read()\n",
        "        print(content)\n",
        "except FileNotFoundError:\n",
        "    print(f\"Error: The file '{file_name}' was not found.\")\n"
      ],
      "metadata": {
        "id": "PEc4fDcZiQ4W"
      },
      "execution_count": null,
      "outputs": []
    },
    {
      "cell_type": "markdown",
      "source": [
        "21.Write a Python program that reads a file and prints the number of occurrences of a specific word"
      ],
      "metadata": {
        "id": "vXbwqCo2iR2W"
      }
    },
    {
      "cell_type": "code",
      "source": [
        "def count_word_in_file(filepath, search_word):\n",
        "    \"\"\"\n",
        "    Reads a file and counts the number of occurrences of a specific word.\n",
        "\n",
        "    Args:\n",
        "        filepath (str): The path to the file.\n",
        "        search_word (str): The word to search for.\n",
        "    \"\"\"\n",
        "    try:\n",
        "        with open(filepath, 'r', encoding='utf-8') as file:\n",
        "            content = file.read()\n",
        "\n",
        "            # Convert both the content and the search word to lowercase\n",
        "            # to ensure a case-insensitive count.\n",
        "            content_lower = content.lower()\n",
        "            search_word_lower = search_word.lower()\n",
        "\n",
        "            # Use the built-in str.count() method for efficiency.\n",
        "            count = content_lower.count(search_word_lower)\n",
        "\n",
        "            print(f\"The word '{search_word}' appears {count} time(s) in the file.\")\n",
        "\n",
        "    except FileNotFoundError:\n",
        "        print(f\"Error: The file '{filepath}' was not found.\")\n",
        "    except Exception as e:\n",
        "        print(f\"An unexpected error occurred: {e}\")\n",
        "\n",
        "# --- Demonstration ---\n",
        "# Create a sample file for testing\n",
        "with open(\"sample.txt\", \"w\", encoding='utf-8') as f:\n",
        "    f.write(\"Python is a powerful language. Python is versatile.\")\n",
        "    f.write(\"It is easy to learn, and Python is great.\")\n",
        "\n",
        "# Count occurrences of the word \"Python\" (case-insensitive)\n",
        "count_word_in_file(\"sample.txt\", \"Python\")\n",
        "\n",
        "# Try to count a word in a non-existent file\n",
        "count_word_in_file(\"non_existent.txt\", \"word\")\n"
      ],
      "metadata": {
        "id": "gztem1YUiaCW"
      },
      "execution_count": null,
      "outputs": []
    },
    {
      "cell_type": "markdown",
      "source": [
        "22. How can you check if a file is empty before attempting to read its contents"
      ],
      "metadata": {
        "id": "8TANED9oiatt"
      }
    },
    {
      "cell_type": "code",
      "source": [
        "import os\n",
        "\n",
        "filepath = 'my_file.txt'\n",
        "\n",
        "try:\n",
        "    if os.path.getsize(filepath) == 0:\n",
        "        print(f\"The file '{filepath}' is empty.\")\n",
        "    else:\n",
        "        print(f\"The file '{filepath}' is not empty.\")\n",
        "        # Proceed to read the file\n",
        "        with open(filepath, 'r') as file:\n",
        "            content = file.read()\n",
        "            # Process content...\n",
        "except FileNotFoundError:\n",
        "    print(f\"Error: The file '{filepath}' was not found.\")\n"
      ],
      "metadata": {
        "id": "l9CJA1ejihn-"
      },
      "execution_count": null,
      "outputs": []
    },
    {
      "cell_type": "markdown",
      "source": [
        "23.Write a Python program that writes to a log file when an error occurs during file handling"
      ],
      "metadata": {
        "id": "huR69Tk3iiQH"
      }
    },
    {
      "cell_type": "code",
      "source": [
        "import logging\n",
        "import os\n",
        "\n",
        "# --- Step 1: Configure the logging module ---\n",
        "# Create or append to a log file named 'app.log'\n",
        "logging.basicConfig(\n",
        "    filename='app.log',\n",
        "    level=logging.ERROR, # Log only messages of level ERROR and higher\n",
        "    format='%(asctime)s - %(levelname)s - %(message)s'\n",
        ")\n",
        "\n",
        "def read_file(file_name):\n",
        "    \"\"\"\n",
        "    Attempts to read a file and logs an error if it fails.\n",
        "    \"\"\"\n",
        "    print(f\"Attempting to read from file: {file_name}\")\n",
        "\n",
        "    # --- Step 2: Use a try...except block for file handling ---\n",
        "    try:\n",
        "        with open(file_name, 'r') as file:\n",
        "            content = file.read()\n",
        "            print(\"File content successfully read.\")\n",
        "            return content\n",
        "    except FileNotFoundError:\n",
        "        # --- Step 3: Log the exception ---\n",
        "        # logging.exception() includes the error message and the full stack trace\n",
        "        logging.exception(f\"Error: The file '{file_name}' was not found.\")\n",
        "        print(f\"Failed to read file. Check 'app.log' for details.\")\n",
        "        return None\n",
        "    except Exception as e:\n",
        "        # Catch any other unexpected file handling errors\n",
        "        logging.exception(f\"An unexpected error occurred during file handling: {e}\")\n",
        "        print(f\"An unexpected error occurred. Check 'app.log' for details.\")\n",
        "        return None\n",
        "\n",
        "# --- Demonstration ---\n",
        "# This call will fail because the file does not exist\n",
        "non_existent_file = 'non_existent.txt'\n",
        "file_content = read_file(non_existent_file)\n",
        "\n",
        "# The content is None because the read failed\n",
        "if file_content is not None:\n",
        "    print(f\"\\nContent read: {file_content}\")\n",
        "\n"
      ],
      "metadata": {
        "id": "FWJSGViSil91"
      },
      "execution_count": null,
      "outputs": []
    }
  ]
}